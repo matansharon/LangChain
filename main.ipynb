{
 "cells": [
  {
   "cell_type": "code",
   "execution_count": 11,
   "metadata": {},
   "outputs": [],
   "source": [
    "import openai\n",
    "import os\n",
    "from dotenv import load_dotenv"
   ]
  },
  {
   "cell_type": "code",
   "execution_count": 16,
   "metadata": {},
   "outputs": [],
   "source": [
    "load_dotenv()\n",
    "\n",
    "openai.api_key = os.getenv(\"OPENAI_API_KEY\")\n"
   ]
  },
  {
   "cell_type": "code",
   "execution_count": 3,
   "metadata": {},
   "outputs": [],
   "source": [
    "from langflow import load_flow_from_json"
   ]
  },
  {
   "cell_type": "code",
   "execution_count": 17,
   "metadata": {},
   "outputs": [
    {
     "name": "stderr",
     "output_type": "stream",
     "text": [
      "/Users/matansharon/python/LangChain/lang_env/lib/python3.10/site-packages/langflow/graph/base.py:131: UserWarning: Value for name in VectorStoreInfo is None. \n",
      "  warnings.warn(f\"Value for {key} in {self.node_type} is None. \")\n",
      "/Users/matansharon/python/LangChain/lang_env/lib/python3.10/site-packages/langflow/graph/base.py:131: UserWarning: Value for description in VectorStoreInfo is None. \n",
      "  warnings.warn(f\"Value for {key} in {self.node_type} is None. \")\n"
     ]
    },
    {
     "ename": "ValueError",
     "evalue": "Error building node VectorStoreInfo: 2 validation errors for VectorStoreInfo\nname\n  none is not an allowed value (type=type_error.none.not_allowed)\ndescription\n  none is not an allowed value (type=type_error.none.not_allowed)",
     "output_type": "error",
     "traceback": [
      "\u001b[0;31m---------------------------------------------------------------------------\u001b[0m",
      "\u001b[0;31mValidationError\u001b[0m                           Traceback (most recent call last)",
      "File \u001b[0;32m~/python/LangChain/lang_env/lib/python3.10/site-packages/langflow/graph/base.py:195\u001b[0m, in \u001b[0;36mNode._build\u001b[0;34m(self)\u001b[0m\n\u001b[1;32m    194\u001b[0m \u001b[39mtry\u001b[39;00m:\n\u001b[0;32m--> 195\u001b[0m     \u001b[39mself\u001b[39m\u001b[39m.\u001b[39m_built_object \u001b[39m=\u001b[39m loading\u001b[39m.\u001b[39;49minstantiate_class(\n\u001b[1;32m    196\u001b[0m         node_type\u001b[39m=\u001b[39;49m\u001b[39mself\u001b[39;49m\u001b[39m.\u001b[39;49mnode_type,\n\u001b[1;32m    197\u001b[0m         base_type\u001b[39m=\u001b[39;49m\u001b[39mself\u001b[39;49m\u001b[39m.\u001b[39;49mbase_type,\n\u001b[1;32m    198\u001b[0m         params\u001b[39m=\u001b[39;49m\u001b[39mself\u001b[39;49m\u001b[39m.\u001b[39;49mparams,\n\u001b[1;32m    199\u001b[0m     )\n\u001b[1;32m    200\u001b[0m \u001b[39mexcept\u001b[39;00m \u001b[39mException\u001b[39;00m \u001b[39mas\u001b[39;00m exc:\n",
      "File \u001b[0;32m~/python/LangChain/lang_env/lib/python3.10/site-packages/langflow/interface/loading.py:41\u001b[0m, in \u001b[0;36minstantiate_class\u001b[0;34m(node_type, base_type, params)\u001b[0m\n\u001b[1;32m     40\u001b[0m class_object \u001b[39m=\u001b[39m import_by_type(_type\u001b[39m=\u001b[39mbase_type, name\u001b[39m=\u001b[39mnode_type)\n\u001b[0;32m---> 41\u001b[0m \u001b[39mreturn\u001b[39;00m instantiate_based_on_type(class_object, base_type, node_type, params)\n",
      "File \u001b[0;32m~/python/LangChain/lang_env/lib/python3.10/site-packages/langflow/interface/loading.py:71\u001b[0m, in \u001b[0;36minstantiate_based_on_type\u001b[0;34m(class_object, base_type, node_type, params)\u001b[0m\n\u001b[1;32m     70\u001b[0m \u001b[39melif\u001b[39;00m base_type \u001b[39m==\u001b[39m \u001b[39m\"\u001b[39m\u001b[39mtoolkits\u001b[39m\u001b[39m\"\u001b[39m:\n\u001b[0;32m---> 71\u001b[0m     \u001b[39mreturn\u001b[39;00m instantiate_toolkit(node_type, class_object, params)\n\u001b[1;32m     72\u001b[0m \u001b[39melif\u001b[39;00m base_type \u001b[39m==\u001b[39m \u001b[39m\"\u001b[39m\u001b[39membeddings\u001b[39m\u001b[39m\"\u001b[39m:\n",
      "File \u001b[0;32m~/python/LangChain/lang_env/lib/python3.10/site-packages/langflow/interface/loading.py:113\u001b[0m, in \u001b[0;36minstantiate_toolkit\u001b[0;34m(node_type, class_object, params)\u001b[0m\n\u001b[1;32m    112\u001b[0m \u001b[39mdef\u001b[39;00m \u001b[39minstantiate_toolkit\u001b[39m(node_type, class_object, params):\n\u001b[0;32m--> 113\u001b[0m     loaded_toolkit \u001b[39m=\u001b[39m class_object(\u001b[39m*\u001b[39;49m\u001b[39m*\u001b[39;49mparams)\n\u001b[1;32m    114\u001b[0m     \u001b[39mif\u001b[39;00m toolkits_creator\u001b[39m.\u001b[39mhas_create_function(node_type):\n",
      "File \u001b[0;32m~/python/LangChain/lang_env/lib/python3.10/site-packages/pydantic/main.py:341\u001b[0m, in \u001b[0;36mpydantic.main.BaseModel.__init__\u001b[0;34m()\u001b[0m\n",
      "\u001b[0;31mValidationError\u001b[0m: 2 validation errors for VectorStoreInfo\nname\n  none is not an allowed value (type=type_error.none.not_allowed)\ndescription\n  none is not an allowed value (type=type_error.none.not_allowed)",
      "\nThe above exception was the direct cause of the following exception:\n",
      "\u001b[0;31mValueError\u001b[0m                                Traceback (most recent call last)",
      "Cell \u001b[0;32mIn[17], line 1\u001b[0m\n\u001b[0;32m----> 1\u001b[0m llm\u001b[39m=\u001b[39mload_flow_from_json(\u001b[39m'\u001b[39;49m\u001b[39mPDF_Loader.json\u001b[39;49m\u001b[39m'\u001b[39;49m)\n",
      "File \u001b[0;32m~/python/LangChain/lang_env/lib/python3.10/site-packages/langflow/interface/loading.py:182\u001b[0m, in \u001b[0;36mload_flow_from_json\u001b[0;34m(path, build)\u001b[0m\n\u001b[1;32m    180\u001b[0m graph \u001b[39m=\u001b[39m Graph(nodes, edges)\n\u001b[1;32m    181\u001b[0m \u001b[39mif\u001b[39;00m build:\n\u001b[0;32m--> 182\u001b[0m     langchain_object \u001b[39m=\u001b[39m graph\u001b[39m.\u001b[39;49mbuild()\n\u001b[1;32m    183\u001b[0m     \u001b[39mif\u001b[39;00m \u001b[39mhasattr\u001b[39m(langchain_object, \u001b[39m\"\u001b[39m\u001b[39mverbose\u001b[39m\u001b[39m\"\u001b[39m):\n\u001b[1;32m    184\u001b[0m         langchain_object\u001b[39m.\u001b[39mverbose \u001b[39m=\u001b[39m \u001b[39mTrue\u001b[39;00m\n",
      "File \u001b[0;32m~/python/LangChain/lang_env/lib/python3.10/site-packages/langflow/graph/graph.py:90\u001b[0m, in \u001b[0;36mGraph.build\u001b[0;34m(self)\u001b[0m\n\u001b[1;32m     88\u001b[0m \u001b[39mif\u001b[39;00m root_node \u001b[39mis\u001b[39;00m \u001b[39mNone\u001b[39;00m:\n\u001b[1;32m     89\u001b[0m     \u001b[39mraise\u001b[39;00m \u001b[39mValueError\u001b[39;00m(\u001b[39m\"\u001b[39m\u001b[39mNo root node found\u001b[39m\u001b[39m\"\u001b[39m)\n\u001b[0;32m---> 90\u001b[0m \u001b[39mreturn\u001b[39;00m root_node\u001b[39m.\u001b[39;49mbuild()\n",
      "File \u001b[0;32m~/python/LangChain/lang_env/lib/python3.10/site-packages/langflow/graph/nodes.py:33\u001b[0m, in \u001b[0;36mAgentNode.build\u001b[0;34m(self, force)\u001b[0m\n\u001b[1;32m     30\u001b[0m     \u001b[39mfor\u001b[39;00m chain_node \u001b[39min\u001b[39;00m \u001b[39mself\u001b[39m\u001b[39m.\u001b[39mchains:\n\u001b[1;32m     31\u001b[0m         chain_node\u001b[39m.\u001b[39mbuild(tools\u001b[39m=\u001b[39m\u001b[39mself\u001b[39m\u001b[39m.\u001b[39mtools)\n\u001b[0;32m---> 33\u001b[0m     \u001b[39mself\u001b[39;49m\u001b[39m.\u001b[39;49m_build()\n\u001b[1;32m     35\u001b[0m \u001b[39m#! Cannot deepcopy VectorStore, VectorStoreRouter, or SQL agents\u001b[39;00m\n\u001b[1;32m     36\u001b[0m \u001b[39mif\u001b[39;00m \u001b[39mself\u001b[39m\u001b[39m.\u001b[39mnode_type \u001b[39min\u001b[39;00m [\u001b[39m\"\u001b[39m\u001b[39mVectorStoreAgent\u001b[39m\u001b[39m\"\u001b[39m, \u001b[39m\"\u001b[39m\u001b[39mVectorStoreRouterAgent\u001b[39m\u001b[39m\"\u001b[39m, \u001b[39m\"\u001b[39m\u001b[39mSQLAgent\u001b[39m\u001b[39m\"\u001b[39m]:\n",
      "File \u001b[0;32m~/python/LangChain/lang_env/lib/python3.10/site-packages/langflow/graph/base.py:160\u001b[0m, in \u001b[0;36mNode._build\u001b[0;34m(self)\u001b[0m\n\u001b[1;32m    158\u001b[0m     \u001b[39mdel\u001b[39;00m \u001b[39mself\u001b[39m\u001b[39m.\u001b[39mparams[key]\n\u001b[1;32m    159\u001b[0m     \u001b[39mcontinue\u001b[39;00m\n\u001b[0;32m--> 160\u001b[0m result \u001b[39m=\u001b[39m value\u001b[39m.\u001b[39;49mbuild()\n\u001b[1;32m    161\u001b[0m \u001b[39m# If the key is \"func\", then we need to use the run method\u001b[39;00m\n\u001b[1;32m    162\u001b[0m \u001b[39mif\u001b[39;00m key \u001b[39m==\u001b[39m \u001b[39m\"\u001b[39m\u001b[39mfunc\u001b[39m\u001b[39m\"\u001b[39m:\n",
      "File \u001b[0;32m~/python/LangChain/lang_env/lib/python3.10/site-packages/langflow/graph/base.py:212\u001b[0m, in \u001b[0;36mNode.build\u001b[0;34m(self, force)\u001b[0m\n\u001b[1;32m    210\u001b[0m \u001b[39mdef\u001b[39;00m \u001b[39mbuild\u001b[39m(\u001b[39mself\u001b[39m, force: \u001b[39mbool\u001b[39m \u001b[39m=\u001b[39m \u001b[39mFalse\u001b[39;00m) \u001b[39m-\u001b[39m\u001b[39m>\u001b[39m Any:\n\u001b[1;32m    211\u001b[0m     \u001b[39mif\u001b[39;00m \u001b[39mnot\u001b[39;00m \u001b[39mself\u001b[39m\u001b[39m.\u001b[39m_built \u001b[39mor\u001b[39;00m force:\n\u001b[0;32m--> 212\u001b[0m         \u001b[39mself\u001b[39;49m\u001b[39m.\u001b[39;49m_build()\n\u001b[1;32m    214\u001b[0m     \u001b[39mreturn\u001b[39;00m \u001b[39mself\u001b[39m\u001b[39m.\u001b[39m_built_object\n",
      "File \u001b[0;32m~/python/LangChain/lang_env/lib/python3.10/site-packages/langflow/graph/base.py:201\u001b[0m, in \u001b[0;36mNode._build\u001b[0;34m(self)\u001b[0m\n\u001b[1;32m    195\u001b[0m     \u001b[39mself\u001b[39m\u001b[39m.\u001b[39m_built_object \u001b[39m=\u001b[39m loading\u001b[39m.\u001b[39minstantiate_class(\n\u001b[1;32m    196\u001b[0m         node_type\u001b[39m=\u001b[39m\u001b[39mself\u001b[39m\u001b[39m.\u001b[39mnode_type,\n\u001b[1;32m    197\u001b[0m         base_type\u001b[39m=\u001b[39m\u001b[39mself\u001b[39m\u001b[39m.\u001b[39mbase_type,\n\u001b[1;32m    198\u001b[0m         params\u001b[39m=\u001b[39m\u001b[39mself\u001b[39m\u001b[39m.\u001b[39mparams,\n\u001b[1;32m    199\u001b[0m     )\n\u001b[1;32m    200\u001b[0m \u001b[39mexcept\u001b[39;00m \u001b[39mException\u001b[39;00m \u001b[39mas\u001b[39;00m exc:\n\u001b[0;32m--> 201\u001b[0m     \u001b[39mraise\u001b[39;00m \u001b[39mValueError\u001b[39;00m(\n\u001b[1;32m    202\u001b[0m         \u001b[39mf\u001b[39m\u001b[39m\"\u001b[39m\u001b[39mError building node \u001b[39m\u001b[39m{\u001b[39;00m\u001b[39mself\u001b[39m\u001b[39m.\u001b[39mnode_type\u001b[39m}\u001b[39;00m\u001b[39m: \u001b[39m\u001b[39m{\u001b[39;00m\u001b[39mstr\u001b[39m(exc)\u001b[39m}\u001b[39;00m\u001b[39m\"\u001b[39m\n\u001b[1;32m    203\u001b[0m     ) \u001b[39mfrom\u001b[39;00m \u001b[39mexc\u001b[39;00m\n\u001b[1;32m    205\u001b[0m \u001b[39mif\u001b[39;00m \u001b[39mself\u001b[39m\u001b[39m.\u001b[39m_built_object \u001b[39mis\u001b[39;00m \u001b[39mNone\u001b[39;00m:\n\u001b[1;32m    206\u001b[0m     \u001b[39mraise\u001b[39;00m \u001b[39mValueError\u001b[39;00m(\u001b[39mf\u001b[39m\u001b[39m\"\u001b[39m\u001b[39mNode type \u001b[39m\u001b[39m{\u001b[39;00m\u001b[39mself\u001b[39m\u001b[39m.\u001b[39mnode_type\u001b[39m}\u001b[39;00m\u001b[39m not found\u001b[39m\u001b[39m\"\u001b[39m)\n",
      "\u001b[0;31mValueError\u001b[0m: Error building node VectorStoreInfo: 2 validation errors for VectorStoreInfo\nname\n  none is not an allowed value (type=type_error.none.not_allowed)\ndescription\n  none is not an allowed value (type=type_error.none.not_allowed)"
     ]
    }
   ],
   "source": [
    "llm=load_flow_from_json('PDF_Loader.json')\n"
   ]
  }
 ],
 "metadata": {
  "kernelspec": {
   "display_name": "AI_env",
   "language": "python",
   "name": "python3"
  },
  "language_info": {
   "codemirror_mode": {
    "name": "ipython",
    "version": 3
   },
   "file_extension": ".py",
   "mimetype": "text/x-python",
   "name": "python",
   "nbconvert_exporter": "python",
   "pygments_lexer": "ipython3",
   "version": "3.10.11"
  },
  "orig_nbformat": 4,
  "vscode": {
   "interpreter": {
    "hash": "667b181c630d0c2792b671a6ac5fb5e28e75373882d6e85ca3fd7749e63b4f48"
   }
  }
 },
 "nbformat": 4,
 "nbformat_minor": 2
}
